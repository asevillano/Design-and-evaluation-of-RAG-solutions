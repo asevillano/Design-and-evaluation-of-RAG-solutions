{
 "cells": [
  {
   "cell_type": "markdown",
   "metadata": {},
   "source": [
    "# Semantic chunking with a GPT-4T/GPT-4o\n",
    "\n",
    "This code demonstrate how to use GPT-4o to chunk long content, generating chunks with text semantically similar.\n",
    "\n",
    "The output is the chunks of the content.\n",
    "\n",
    "## Prerequisites\n",
    "\n",
    "+ An Azure subscription, with [access to Azure OpenAI](https://aka.ms/oai/access).\n",
    "+ An Azure OpenAI service with the service name and an API key.\n",
    "+ A deployment of the text-embedding-ada-002 embedding model on the Azure OpenAI Service.\n",
    "\n",
    "We used Python 3.12.3, [Visual Studio Code with the Python extension](https://code.visualstudio.com/docs/python/python-tutorial), and the [Jupyter extension](https://marketplace.visualstudio.com/items?itemName=ms-toolsai.jupyter) to test this example.\n",
    "\n",
    "### Set up a Python virtual environment in Visual Studio Code\n",
    "\n",
    "1. Open the Command Palette (Ctrl+Shift+P).\n",
    "1. Search for **Python: Create Environment**.\n",
    "1. Select **Venv**.\n",
    "1. Select a Python interpreter. Choose 3.10 or later.\n",
    "\n",
    "It can take a minute to set up. If you run into problems, see [Python environments in VS Code](https://code.visualstudio.com/docs/python/environments)."
   ]
  },
  {
   "cell_type": "markdown",
   "metadata": {},
   "source": [
    "### Install packages"
   ]
  },
  {
   "cell_type": "code",
   "execution_count": null,
   "metadata": {},
   "outputs": [],
   "source": [
    "! pip install openai"
   ]
  },
  {
   "cell_type": "markdown",
   "metadata": {},
   "source": [
    "## Install packages and create AOAI client"
   ]
  },
  {
   "cell_type": "code",
   "execution_count": 1,
   "metadata": {},
   "outputs": [],
   "source": [
    "import os\n",
    "import re\n",
    "from dotenv import load_dotenv\n",
    "from openai import AzureOpenAI\n",
    "import sys\n",
    "sys.path.append('..')\n",
    "from pa_utils import call_aoai, token_len, load_files\n",
    "\n",
    "# Load environment variables from .env\n",
    "load_dotenv(override=True)\n",
    "\n",
    "# AOAI FOR ANSWER GENERATION\n",
    "aoai_endpoint = os.environ[\"AZURE_OPENAI_ENDPOINT\"]\n",
    "aoai_apikey = os.environ[\"AZURE_OPENAI_API_KEY\"]\n",
    "aoai_model_name = os.environ[\"AZURE_OPENAI_DEPLOYMENT_NAME\"]\n",
    "# Create AOAI client for semantic chunking\n",
    "aoai_api_version = '2024-02-15-preview'\n",
    "aoai_client = AzureOpenAI(\n",
    "    azure_deployment=aoai_model_name,\n",
    "    api_version=aoai_api_version,\n",
    "    azure_endpoint=aoai_endpoint,\n",
    "    api_key=aoai_apikey\n",
    ")\n",
    "\n",
    "# AOAI FOR EMBEDDING GENERATION\n",
    "aoai_embedding_endpoint = os.environ[\"AZURE_OPENAI_EMBEDDING_ENDPOINT\"]\n",
    "aoai_embedding_apikey = os.environ[\"AZURE_OPENAI_EMBEDDING_API_KEY\"]\n",
    "embedding_model_name = os.environ[\"AZURE_OPENAI_EMBEDDING_NAME_ADA\"]\n",
    "# Create AOAI client for embedding generation\n",
    "client_embed = AzureOpenAI(\n",
    "    azure_deployment=embedding_model_name,\n",
    "    api_version=aoai_api_version,\n",
    "    azure_endpoint=aoai_embedding_endpoint,\n",
    "    api_key=aoai_embedding_apikey\n",
    ")\n",
    "\n",
    "# CONSTANTS\n",
    "MAX_CHUNK_TOKEN_SIZE = 512"
   ]
  },
  {
   "cell_type": "markdown",
   "metadata": {},
   "source": [
    "## Chunk text with GPT-4o"
   ]
  },
  {
   "cell_type": "code",
   "execution_count": 25,
   "metadata": {},
   "outputs": [],
   "source": [
    "\n",
    "def generate_chunks_with_aoai(text):\n",
    "\n",
    "    system_prompt = f\"\"\"Analyze the document provided and divide it into distinct sections where each section contains information that can answer typical customer questions for a Telco scenario. Group related topics together to form semantically coherent chunks. Ensure that each chunk is concise enough to stay within the token limits of the model, with a maximum of {MAX_CHUNK_TOKEN_SIZE} tokens, but comprehensive enough to provide a thorough answer to potential customer inquiries. If there are chunks with a size less than 100 tokens put them together in the same chunk. \n",
    "    Additionally, label each chunk with a descriptive title based on its content to facilitate easy navigation and reference. \n",
    "    The response has to be in the same language than the document.\n",
    "    Respond with a format as follows with a line per title and chunk pair generated. For instance:\n",
    "    title: \"Informacion sobre Datos (Móvil)\", chunk: \"Cliente que necesita estar constantemente conectado a Internet (p ej un agente de bolsa que trabaja en movilidad, un comercial que hace los pedidos contra el stock del almacén?) En este caso le interesa el contrato Plus Datos / Plus Datos UMTS, opcionalmente para este último podrá contratar el Módulo C  o la Tarifa plana datos.\"\n",
    "    title: \"Descripción de Internet\", \"chunk\": \"Internet es una red compuesta de páginas Web a la que se accede desde un PC (y desde determinados modelos de terminales o PDA´s ) utilizando un móvil como módem mediante un cable de conexión, puerto de infrarrojos o bluetooth o con una tarjeta PCMCIA.\"\n",
    "    \"\"\"\n",
    "    user_prompt = f'Document: \"{text}\"'\n",
    "\n",
    "    response = call_aoai(aoai_client, aoai_model_name, system_prompt, user_prompt, 0.5, 4096)\n",
    "    print(f'RESPONSE: [{response}]')\n",
    "\n",
    "    if response != None:\n",
    "        # GPT-4-0409: Parse answer with \", \" as the separator between title and chunk\n",
    "        pattern = r'title: \"(.*?)\", chunk: \"(.*?)\"'\n",
    "        matches = re.findall(pattern, response)\n",
    "        # Extract values of title and chunk from the response\n",
    "        titles = [match[0] for match in matches]\n",
    "        chunks = [match[1] for match in matches]\n",
    "\n",
    "        data = [{\"title\": match[0], \"content\": match[1]} for match in matches]\n",
    "\n",
    "        for chunk in data:\n",
    "            print(f'chunk: {chunk}')\n",
    "\n",
    "        '''\n",
    "        chunks = []\n",
    "        for x in range(len(titles)): # For every title and chunk pair\n",
    "            title = titles[x]\n",
    "            chunk = chunks[x]\n",
    "            print(f'[{x}]: title: [{title}]')\n",
    "            print(f'chunk: [{chunk}]')\n",
    "            print(f'\\ttokens: {token_len(chunk)}\\n')\n",
    "            chunks.append(chunk)\n",
    "        print(f'total number of chunks: {x}')\n",
    "        '''\n",
    "        \n",
    "        return chunks\n",
    "    else:\n",
    "        return None\n",
    "    "
   ]
  },
  {
   "cell_type": "code",
   "execution_count": 26,
   "metadata": {},
   "outputs": [
    {
     "name": "stdout",
     "output_type": "stream",
     "text": [
      "total tokens: 418\n",
      "RESPONSE: [title: \"Introduction to Business Continuity Planning Guide\", chunk: \"Welcome to QuickConnect's comprehensive guide on how you can support customers with their business continuity planning (BCP). This guide aims to arm you with essential knowledge and strategies to ensure our customers remain connected and operational during any crisis.\"\n",
      "title: \"Understanding Business Continuity Planning\", chunk: \"BCP involves creating systems and procedures that enable a business to withstand and recover from disruptions. This might include natural disasters, significant technical failures, or cyber incidents. The primary goal is for the business to maintain operations or quickly rebound with minimal impact.\"\n",
      "title: \"Role of QuickConnect in Business Continuity\", chunk: \"As a key telecommunications provider, QuickConnect plays a vital role in ensuring that businesses around the clock can maintain communication. Our products and services support continuous operation, remote work capabilities, and backup solutions during emergencies.\"\n",
      "title: \"Steps to Assist Customers with Business Continuity Planning\", chunk: \"Below are actionable steps to guide customers through their BCP: Learn About the Customerâ€™s Business, Identify Essential Communication Tools, Analyze Risks and Weak Points, Formulate Recovery Plans, Execute the Plan, Regular Testing and Updates.\"\n",
      "title: \"Core QuickConnect Services for Business Continuity Planning\", chunk: \"QuickConnect provides essential telecommunications support that includes continuous operation capabilities, remote work solutions, and emergency backup services, crucial for maintaining business continuity.\"]\n",
      "chunk: {'title': 'Introduction to Business Continuity Planning Guide', 'content': \"Welcome to QuickConnect's comprehensive guide on how you can support customers with their business continuity planning (BCP). This guide aims to arm you with essential knowledge and strategies to ensure our customers remain connected and operational during any crisis.\"}\n",
      "chunk: {'title': 'Understanding Business Continuity Planning', 'content': 'BCP involves creating systems and procedures that enable a business to withstand and recover from disruptions. This might include natural disasters, significant technical failures, or cyber incidents. The primary goal is for the business to maintain operations or quickly rebound with minimal impact.'}\n",
      "chunk: {'title': 'Role of QuickConnect in Business Continuity', 'content': 'As a key telecommunications provider, QuickConnect plays a vital role in ensuring that businesses around the clock can maintain communication. Our products and services support continuous operation, remote work capabilities, and backup solutions during emergencies.'}\n",
      "chunk: {'title': 'Steps to Assist Customers with Business Continuity Planning', 'content': 'Below are actionable steps to guide customers through their BCP: Learn About the Customerâ€™s Business, Identify Essential Communication Tools, Analyze Risks and Weak Points, Formulate Recovery Plans, Execute the Plan, Regular Testing and Updates.'}\n",
      "chunk: {'title': 'Core QuickConnect Services for Business Continuity Planning', 'content': 'QuickConnect provides essential telecommunications support that includes continuous operation capabilities, remote work solutions, and emergency backup services, crucial for maintaining business continuity.'}\n",
      "[1]: Welcome to QuickConnect's comprehensive guide on how you can support customers with their business continuity planning (BCP). This guide aims to arm you with essential knowledge and strategies to ensure our customers remain connected and operational during any crisis.\n",
      "[2]: BCP involves creating systems and procedures that enable a business to withstand and recover from disruptions. This might include natural disasters, significant technical failures, or cyber incidents. The primary goal is for the business to maintain operations or quickly rebound with minimal impact.\n",
      "[3]: As a key telecommunications provider, QuickConnect plays a vital role in ensuring that businesses around the clock can maintain communication. Our products and services support continuous operation, remote work capabilities, and backup solutions during emergencies.\n",
      "[4]: Below are actionable steps to guide customers through their BCP: Learn About the Customerâ€™s Business, Identify Essential Communication Tools, Analyze Risks and Weak Points, Formulate Recovery Plans, Execute the Plan, Regular Testing and Updates.\n",
      "[5]: QuickConnect provides essential telecommunications support that includes continuous operation capabilities, remote work solutions, and emergency backup services, crucial for maintaining business continuity.\n"
     ]
    }
   ],
   "source": [
    "text = \"\"\"\n",
    "Supporting Business Continuity Planning - QuickConnect\n",
    "===\n",
    "\n",
    "# Supporting Business Continuity Planning\n",
    "Welcome to QuickConnect's comprehensive guide on how you can support customers with their business continuity planning (BCP). This guide aims to arm you with essential knowledge and strategies to ensure our customers remain connected and operational during any crisis.\n",
    "\n",
    "## Understanding Business Continuity Planning\n",
    "BCP involves creating systems and procedures that enable a business to withstand and recover from disruptions. This might include natural disasters, significant technical failures, or cyber incidents. The primary goal is for the business to maintain operations or quickly rebound with minimal impact.\n",
    "\n",
    "## The Role of QuickConnect in Business Continuity\n",
    "As a key telecommunications provider, QuickConnect plays a vital role in ensuring that businesses around the clock can maintain communication. Our products and services support continuous operation, remote work capabilities, and backup solutions during emergencies.\n",
    "\n",
    "## How to Assist Customers with BCP\n",
    "Below are actionable steps to guide customers through their BCP:\n",
    "\n",
    "### Learn About the Customerâ€™s Business\n",
    "Start by gaining insight into their business operations, sector, and specific needs. Discuss their critical operations and assess what interruptions could mean for their functions.\n",
    "\n",
    "### Identify Essential Communication Tools\n",
    "Identify the most crucial communication tools for themâ€”this may include phone services, internet, email systems, and data transfer systems.\n",
    "\n",
    "### Analyze Risks and Weak Points\n",
    "Help the customer recognize weak points and potential risks such as hardware malfunctions, network outages, cyber risks, and natural calamities.\n",
    "\n",
    "### Formulate Recovery Plans\n",
    "Collaborate with the customer to create backup strategies for their communication tools. This might consist of data backups, failover solutions, remote access, and alternative communication methods.\n",
    "\n",
    "### Execute the Plan\n",
    "Assist them in setting up the BCP, ensuring they have the necessary hardware, software, and services. Provide additional training if needed.\n",
    "\n",
    "### Regular Testing and Updates\n",
    "Promote regular testing and revising of the BCP, with simulation exercises and updates reflecting technological advancements and changing business environments.\n",
    "\n",
    "## Core QuickConnect Services for BCP\n",
    "Quick\n",
    "\"\"\"\n",
    "\n",
    "print(f'total tokens: {token_len(text)}')\n",
    "\n",
    "chunks = generate_chunks_with_aoai(text)\n",
    "\n",
    "for i, chunk in enumerate(chunks):\n",
    "    print(f\"[{i + 1}]: {chunk}\")\n"
   ]
  },
  {
   "cell_type": "markdown",
   "metadata": {},
   "source": [
    "## Chunk every txt file in the input directory and write them in the output directory"
   ]
  },
  {
   "cell_type": "code",
   "execution_count": null,
   "metadata": {},
   "outputs": [],
   "source": [
    "# Chunk markdown files and write the chunks as files in the output directory\n",
    "input_dir = '../data_out/markdown_files'\n",
    "output_dir = '../data_out/chunk_gpt_files'\n",
    "os.makedirs(output_dir,exist_ok=True)\n",
    "markdown_contents = load_files(input_dir, '.txt')\n",
    "\n",
    "for i, markdown_content in enumerate(markdown_contents):\n",
    "    print(f\"[{i + 1}]: title: {markdown_content['title']}\")\n",
    "    print(f\"\\t content: [{markdown_content['content']}]\")\n",
    "\n",
    "    chunks = generate_chunks_with_aoai(markdown_content['content'])\n",
    "    # Write every chunk in a file in the output directory\n",
    "    for j, chunk in enumerate(chunks):\n",
    "        print(f'* Chunk {j + 1}, num. tokens: {token_len(chunk)},\\nchunk: [{chunk}]')\n",
    "        chunk_filename = markdown_content['title'].replace(\".txt\", f\"_{j}.txt\")\n",
    "        file_path = os.path.join(output_dir, chunk_filename)\n",
    "        print(f\"\\tWritting file [{file_path}]\")\n",
    "        with open(file_path, \"w\", encoding=\"utf-8\") as f:\n",
    "            f.write(chunk)\n",
    "    print(f'\\t total number of chunks: {j}')\n"
   ]
  }
 ],
 "metadata": {
  "kernelspec": {
   "display_name": "Python 3",
   "language": "python",
   "name": "python3"
  },
  "language_info": {
   "codemirror_mode": {
    "name": "ipython",
    "version": 3
   },
   "file_extension": ".py",
   "mimetype": "text/x-python",
   "name": "python",
   "nbconvert_exporter": "python",
   "pygments_lexer": "ipython3",
   "version": "3.12.3"
  }
 },
 "nbformat": 4,
 "nbformat_minor": 2
}
