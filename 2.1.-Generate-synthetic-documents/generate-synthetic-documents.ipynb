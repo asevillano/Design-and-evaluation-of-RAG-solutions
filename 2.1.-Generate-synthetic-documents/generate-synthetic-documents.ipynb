{
 "cells": [
  {
   "cell_type": "markdown",
   "metadata": {},
   "source": [
    "# Generate synthetic documents for RAG knowledge base"
   ]
  },
  {
   "cell_type": "markdown",
   "metadata": {},
   "source": [
    "## Prerequisites\n",
    "- An Azure subscription, with [access to Azure OpenAI](https://aka.ms/oai/access).\n",
    "\n",
    "We used Python 3.12.3, [Visual Studio Code with the Python extension](https://code.visualstudio.com/docs/python/python-tutorial), and the [Jupyter extension](https://marketplace.visualstudio.com/items?itemName=ms-toolsai.jupyter) to test this example.\n",
    "\n",
    "### Set up a Python virtual environment in Visual Studio Code\n",
    "\n",
    "1. Open the Command Palette (Ctrl+Shift+P).\n",
    "1. Search for **Python: Create Environment**.\n",
    "1. Select **Venv**.\n",
    "1. Select a Python interpreter. Choose 3.10 or later.\n",
    "\n",
    "It can take a minute to set up. If you run into problems, see [Python environments in VS Code](https://code.visualstudio.com/docs/python/environments).\n",
    "\n",
    "### Install packages"
   ]
  },
  {
   "cell_type": "code",
   "execution_count": null,
   "metadata": {},
   "outputs": [],
   "source": [
    "%pip install openai"
   ]
  },
  {
   "cell_type": "markdown",
   "metadata": {},
   "source": [
    "## Import packages and create Azure OpenAI client"
   ]
  },
  {
   "cell_type": "code",
   "execution_count": 28,
   "metadata": {},
   "outputs": [],
   "source": [
    "import os\n",
    "import io\n",
    "from openai import AzureOpenAI\n",
    "import ast\n",
    "\n",
    "client = AzureOpenAI(\n",
    "  azure_endpoint = os.getenv(\"AZURE_ENDPOINT\"), \n",
    "  api_key=os.getenv(\"AZURE_API_KEY\"),\n",
    "  api_version=\"2024-02-01\"\n",
    ")\n",
    "\n",
    "model_deployment_name = \"gpt4o\""
   ]
  },
  {
   "cell_type": "markdown",
   "metadata": {},
   "source": [
    "## Generate a list of topics for the synthetic documents"
   ]
  },
  {
   "cell_type": "code",
   "execution_count": null,
   "metadata": {},
   "outputs": [],
   "source": [
    "prompt = '''\n",
    "You are an AI that generates documents for customer service agents working at QuickConnect (a telecommunications company) that helps them understand how to support customers with specific questions. Generate a list of 200 topics of documents that could be created to help customer service agents. Each topic should be a short description of the document's content. The topics should cover a wide range of customer queries and issues that agents might encounter. The topics should be relevant to the telecommunications industry and provide useful information for agents to assist customers effectively. The topics should be clear, concise, and informative, helping agents quickly understand the content of each document.\n",
    "The output should be a python array in the following format: \n",
    "[\n",
    "    \"How to reset a customer's modem\",\n",
    "    \"Troubleshooting weak Wi-Fi signals\",\n",
    "    \"Upgrading a customer's internet plan\",\n",
    "    \"Explaining data overage charges\",\n",
    "    ...\n",
    "]\n",
    "DO NOT INCLUDE ANY MARKDOWN FORMATTING.\n",
    "'''\n",
    "\n",
    "\n",
    "response = client.chat.completions.create(\n",
    "    model=model_deployment_name,\n",
    "    messages=[\n",
    "    {\"role\": \"system\", \"content\": prompt}\n",
    "    ],\n",
    ")\n",
    "\n",
    "topics = ast.literal_eval(response.choices[0].message.content)\n",
    "print(topics)"
   ]
  },
  {
   "cell_type": "markdown",
   "metadata": {},
   "source": [
    "## Generate documents based on list of topics"
   ]
  },
  {
   "cell_type": "code",
   "execution_count": null,
   "metadata": {},
   "outputs": [],
   "source": [
    "prompt = '''\n",
    "You are an AI that generates documents for customer service agents working at QuickConnect (a telecommunications company) that helps them understand how to support customers with specific questions. The output should be an html file that contains documentation on a specific customer query. Use html tables, lists, etc as appropriate and make it look pretty. The document should be easy to read and understand. DO NOT INCLUDE ANY MARKDOWN FORMATTING IN THE OUTPUT.\n",
    "Make sure the document includes at least 1000 words of content.\n",
    "The topic for this document is:\n",
    "\n",
    "'''\n",
    "\n",
    "if not os.path.exists('data'):\n",
    "    os.makedirs('data')\n",
    "\n",
    "for i in range(len(topics)):\n",
    "    print(topics[i])\n",
    "    prompt_topic = f\"{prompt} {topics[i]}\"\n",
    "    response = client.chat.completions.create(\n",
    "        model=\"gpt-4o\",\n",
    "        messages=[\n",
    "        {\"role\": \"system\", \"content\": prompt_topic}\n",
    "        ],\n",
    "        max_tokens=2000\n",
    "    )\n",
    "    document = response.choices[0].message.content\n",
    "\n",
    "    filename = f\"data/{topics[i].replace(' ', '_')}.html\"\n",
    "    with io.open(filename, 'w', encoding='utf-8') as file:\n",
    "        file.write(document)\n",
    "\n",
    "    print(f\"Document {i+1} saved as {filename}\")\n"
   ]
  },
  {
   "cell_type": "markdown",
   "metadata": {},
   "source": [
    "# Create variants of documents to simulate duplicates"
   ]
  },
  {
   "cell_type": "code",
   "execution_count": null,
   "metadata": {},
   "outputs": [],
   "source": [
    "prompt = '''\n",
    "You are an AI that generates variants of documents for customer service agents working at QuickConnect (a telecommunications company) that helps them understand how to support customers with specific questions. The output should be a variant of the original document's content. The variant should provide alternative ways of explaining the same information or offer additional tips and suggestions. The variant should be relevant to the telecommunications industry and provide useful information for agents to assist customers effectively. The variant should be clear, concise, and informative, helping agents quickly understand the content of each document.\n",
    "\n",
    "DO NOT INCLUDE ANY MARKDOWN FORMATTING.\n",
    "'''\n",
    "\n",
    "variants = []\n",
    "for filename in os.listdir('data')[0:5]:\n",
    "    if filename.endswith('.html'):\n",
    "        with io.open(f'data/{filename}', 'r', encoding='utf-8') as file:\n",
    "            document = file.read()\n",
    "        \n",
    "        prompt_topic = f\"{prompt} {document}\"\n",
    "        response = client.chat.completions.create(\n",
    "            model=\"gpt-4o\",\n",
    "            messages=[\n",
    "                {\"role\": \"system\", \"content\": prompt_topic}\n",
    "            ],\n",
    "            max_tokens=1000\n",
    "        )\n",
    "        variant = response.choices[0].message.content\n",
    "        print(variant)\n",
    "        variant_filename = f\"data/{os.path.splitext(filename)[0]}_2.html\"\n",
    "        with io.open(variant_filename, 'w', encoding='utf-8') as file:\n",
    "            file.write(variant)"
   ]
  }
 ],
 "metadata": {
  "kernelspec": {
   "display_name": ".venv",
   "language": "python",
   "name": "python3"
  },
  "language_info": {
   "codemirror_mode": {
    "name": "ipython",
    "version": 3
   },
   "file_extension": ".py",
   "mimetype": "text/x-python",
   "name": "python",
   "nbconvert_exporter": "python",
   "pygments_lexer": "ipython3",
   "version": "3.10.11"
  }
 },
 "nbformat": 4,
 "nbformat_minor": 2
}
